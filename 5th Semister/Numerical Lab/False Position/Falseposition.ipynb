{
 "cells": [
  {
   "cell_type": "code",
   "execution_count": 1,
   "id": "cdbafae8",
   "metadata": {},
   "outputs": [
    {
     "name": "stdout",
     "output_type": "stream",
     "text": [
      "Root found at x = 1.9999998634666714 after 10 iterations.\n"
     ]
    }
   ],
   "source": [
    "def false_position_method(f, a, b, tol=1e-6, max_iter=100):\n",
    "    \"\"\"\n",
    "    Solve f(x) = 0 using the False Position Method.\n",
    "    \n",
    "    Parameters:\n",
    "    f : function - The function for which we are finding the root.\n",
    "    a : float - One endpoint of the initial interval.\n",
    "    b : float - The other endpoint of the initial interval.\n",
    "    tol : float - The tolerance (stopping criterion based on function value).\n",
    "    max_iter : int - Maximum number of iterations before stopping.\n",
    "    \n",
    "    Returns:\n",
    "    float : The estimated root.\n",
    "    \"\"\"\n",
    "    # Check if the initial guesses bracket the root\n",
    "    if f(a) * f(b) >= 0:\n",
    "        print(\"The function does not change sign in the given interval.\")\n",
    "        return None\n",
    "\n",
    "    iter_count = 0\n",
    "    while iter_count < max_iter:\n",
    "        # Compute the new approximation for the root\n",
    "        c = b - f(b) * (b - a) / (f(b) - f(a))\n",
    "        \n",
    "        # Check if the root is found or tolerance is met\n",
    "        if abs(f(c)) < tol:\n",
    "            print(f\"Root found at x = {c} after {iter_count + 1} iterations.\")\n",
    "            return c\n",
    "        \n",
    "        # Update the interval for the next iteration\n",
    "        if f(c) * f(a) < 0:\n",
    "            b = c  # Root is in the left half\n",
    "        else:\n",
    "            a = c  # Root is in the right half\n",
    "        \n",
    "        iter_count += 1\n",
    "    \n",
    "    print(f\"Maximum iterations reached. Approximate root is {c}.\")\n",
    "    return c\n",
    "\n",
    "# Example function: f(x) = x^2 - 4 (Root is at x = 2)\n",
    "def f(x):\n",
    "    return x**2 - 4\n",
    "\n",
    "# Initial interval [a, b]\n",
    "a = 1\n",
    "b = 3\n",
    "\n",
    "# Calling the False Position Method\n",
    "root = false_position_method(f, a, b)\n"
   ]
  }
 ],
 "metadata": {
  "kernelspec": {
   "display_name": "base",
   "language": "python",
   "name": "python3"
  },
  "language_info": {
   "codemirror_mode": {
    "name": "ipython",
    "version": 3
   },
   "file_extension": ".py",
   "mimetype": "text/x-python",
   "name": "python",
   "nbconvert_exporter": "python",
   "pygments_lexer": "ipython3",
   "version": "3.12.7"
  }
 },
 "nbformat": 4,
 "nbformat_minor": 5
}
