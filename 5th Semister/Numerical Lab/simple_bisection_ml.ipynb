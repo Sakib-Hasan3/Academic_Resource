{
 "cells": [
  {
   "cell_type": "markdown",
   "id": "cfefd471",
   "metadata": {},
   "source": [
    "# Simple Bisection Method for Machine Learning\n",
    "\n",
    "## What we're doing:\n",
    "1. We have some data with 0s and 1s (like pass/fail)\n",
    "2. We want to find the best line to separate them\n",
    "3. We use bisection method to find the best slope\n",
    "\n",
    "Think of it like finding the perfect angle for a seesaw!"
   ]
  },
  {
   "cell_type": "markdown",
   "id": "1d4c7c31",
   "metadata": {},
   "source": [
    "## Step 1: Import Simple Libraries"
   ]
  },
  {
   "cell_type": "code",
   "execution_count": null,
   "id": "b0f13f39",
   "metadata": {},
   "outputs": [],
   "source": [
    "# Just need these simple tools\n",
    "import numpy as np\n",
    "import matplotlib.pyplot as plt\n",
    "\n",
    "print(\"Ready to go! 🚀\")"
   ]
  },
  {
   "cell_type": "markdown",
   "id": "002ad02a",
   "metadata": {},
   "source": [
    "## Step 2: Create Simple Data\n",
    "\n",
    "Let's make some easy data - small numbers get label 0, big numbers get label 1"
   ]
  },
  {
   "cell_type": "code",
   "execution_count": null,
   "id": "4404d833",
   "metadata": {},
   "outputs": [],
   "source": [
    "# Create easy example data\n",
    "X = np.array([1, 2, 3, 4, 5, 6, 7, 8, 9, 10])  # Input numbers\n",
    "y = np.array([0, 0, 0, 0, 0, 1, 1, 1, 1, 1])   # Labels: 0 for small, 1 for big\n",
    "\n",
    "print(\"Our data:\")\n",
    "print(\"Numbers:\", X)\n",
    "print(\"Labels: \", y)\n",
    "\n",
    "# Show the data\n",
    "plt.figure(figsize=(8, 4))\n",
    "colors = ['red', 'blue']\n",
    "for i in range(len(X)):\n",
    "    plt.scatter(X[i], y[i], c=colors[y[i]], s=100)\n",
    "plt.xlabel('Number (X)')\n",
    "plt.ylabel('Label (y)')\n",
    "plt.title('Our Simple Data: Red=0, Blue=1')\n",
    "plt.grid(True)\n",
    "plt.show()"
   ]
  },
  {
   "cell_type": "markdown",
   "id": "0e8dfbc5",
   "metadata": {},
   "source": [
    "## Step 3: Simple Prediction Function\n",
    "\n",
    "We need a function that takes any number and gives us a prediction between 0 and 1.\n",
    "This is called the \"sigmoid\" function - it makes an S-shaped curve."
   ]
  },
  {
   "cell_type": "code",
   "execution_count": null,
   "id": "008869c4",
   "metadata": {},
   "outputs": [],
   "source": [
    "def simple_prediction(x, slope):\n",
    "    \"\"\"\n",
    "    Make a prediction using a simple formula\n",
    "    slope = how steep our line is\n",
    "    \"\"\"\n",
    "    z = slope * x  # multiply input by slope\n",
    "    prediction = 1 / (1 + np.exp(-z))  # sigmoid function\n",
    "    return prediction\n",
    "\n",
    "# Test it out\n",
    "test_slope = 1.0\n",
    "print(\"Testing with slope = 1.0:\")\n",
    "for x in [1, 5, 10]:\n",
    "    pred = simple_prediction(x, test_slope)\n",
    "    print(f\"Input {x} → Prediction {pred:.3f}\")\n",
    "    \n",
    "# Show the curve\n",
    "x_range = np.linspace(0, 10, 100)\n",
    "predictions = [simple_prediction(x, test_slope) for x in x_range]\n",
    "\n",
    "plt.figure(figsize=(8, 5))\n",
    "plt.plot(x_range, predictions, 'g-', linewidth=2, label=f'Slope = {test_slope}')\n",
    "plt.scatter(X, y, c=['red' if label==0 else 'blue' for label in y], s=100)\n",
    "plt.xlabel('Input (X)')\n",
    "plt.ylabel('Prediction')\n",
    "plt.title('Our Prediction Curve')\n",
    "plt.legend()\n",
    "plt.grid(True)\n",
    "plt.show()"
   ]
  },
  {
   "cell_type": "markdown",
   "id": "781aa30e",
   "metadata": {},
   "source": [
    "## Step 4: Calculate How Wrong We Are\n",
    "\n",
    "We need to measure how wrong our predictions are compared to the real answers."
   ]
  },
  {
   "cell_type": "code",
   "execution_count": null,
   "id": "1d1d7617",
   "metadata": {},
   "outputs": [],
   "source": [
    "def calculate_error_slope(slope):\n",
    "    \"\"\"\n",
    "    Calculate how much our slope is \"pulling\" in the wrong direction\n",
    "    This is called the \"gradient\" - it tells us which way to adjust the slope\n",
    "    \"\"\"\n",
    "    total_pull = 0\n",
    "    \n",
    "    for i in range(len(X)):\n",
    "        # Make prediction for this data point\n",
    "        prediction = simple_prediction(X[i], slope)\n",
    "        \n",
    "        # Calculate how much this point \"pulls\" our slope\n",
    "        pull = (prediction - y[i]) * X[i]\n",
    "        total_pull += pull\n",
    "    \n",
    "    # Average the pull across all data points\n",
    "    average_pull = total_pull / len(X)\n",
    "    return average_pull\n",
    "\n",
    "# Test different slopes to see the \"pull\"\n",
    "print(\"Testing different slopes:\")\n",
    "print(\"Slope  |  Error Pull\")\n",
    "print(\"-------|------------\")\n",
    "for test_slope in [0.5, 1.0, 1.5, 2.0]:\n",
    "    pull = calculate_error_slope(test_slope)\n",
    "    direction = \"←\" if pull < 0 else \"→\" if pull > 0 else \"•\"\n",
    "    print(f\"{test_slope:4.1f}   |  {pull:8.3f} {direction}\")\n",
    "\n",
    "print(\"\\n← means slope should be smaller\")\n",
    "print(\"→ means slope should be bigger\") \n",
    "print(\"• means slope is just right!\")"
   ]
  },
  {
   "cell_type": "markdown",
   "id": "5ccb21df",
   "metadata": {},
   "source": [
    "## Step 5: Simple Bisection Method\n",
    "\n",
    "Now the magic! We'll find the perfect slope using bisection.\n",
    "It's like the \"hotter/colder\" game - we keep cutting our search area in half."
   ]
  },
  {
   "cell_type": "code",
   "execution_count": null,
   "id": "d5950358",
   "metadata": {},
   "outputs": [],
   "source": [
    "def simple_bisection():\n",
    "    \"\"\"\n",
    "    Find the perfect slope using bisection method\n",
    "    \"\"\"\n",
    "    # Start with a range where we know the answer is hiding\n",
    "    left = 0.0    # Too small slope\n",
    "    right = 3.0   # Too big slope\n",
    "    \n",
    "    print(\"🎯 Finding the perfect slope!\")\n",
    "    print(\"Step | Left  | Right | Middle| Error  | Next\")\n",
    "    print(\"-----|-------|-------|-------|--------|--------\")\n",
    "    \n",
    "    for step in range(10):  # Try 10 steps\n",
    "        # Try the middle point\n",
    "        middle = (left + right) / 2\n",
    "        error = calculate_error_slope(middle)\n",
    "        \n",
    "        # Decide which direction to go\n",
    "        if abs(error) < 0.01:  # Close enough!\n",
    "            direction = \"FOUND! ✅\"\n",
    "        elif error < 0:  # Error pulls left, so middle is too big\n",
    "            direction = \"Go left ←\"\n",
    "            right = middle\n",
    "        else:  # Error pulls right, so middle is too small\n",
    "            direction = \"Go right →\"\n",
    "            left = middle\n",
    "            \n",
    "        print(f\"{step+1:4d} | {left:5.2f} | {right:5.2f} | {middle:5.2f} | {error:6.3f} | {direction}\")\n",
    "        \n",
    "        if abs(error) < 0.01:  # Found it!\n",
    "            print(f\"\\n🎉 Perfect slope found: {middle:.3f}\")\n",
    "            return middle\n",
    "    \n",
    "    final_slope = (left + right) / 2\n",
    "    print(f\"\\n😊 Best slope after 10 steps: {final_slope:.3f}\")\n",
    "    return final_slope\n",
    "\n",
    "# Run the bisection method!\n",
    "best_slope = simple_bisection()"
   ]
  },
  {
   "cell_type": "markdown",
   "id": "ed471b7f",
   "metadata": {},
   "source": [
    "## Step 6: See Our Amazing Results!"
   ]
  },
  {
   "cell_type": "code",
   "execution_count": null,
   "id": "e2242d29",
   "metadata": {},
   "outputs": [],
   "source": [
    "# Show how good our best slope is!\n",
    "x_smooth = np.linspace(0, 11, 100)\n",
    "y_smooth = [simple_prediction(x, best_slope) for x in x_smooth]\n",
    "\n",
    "plt.figure(figsize=(10, 6))\n",
    "\n",
    "# Plot our perfect curve\n",
    "plt.plot(x_smooth, y_smooth, 'g-', linewidth=3, label=f'Perfect Line (slope={best_slope:.3f})')\n",
    "\n",
    "# Plot our data points\n",
    "colors = ['red', 'blue']\n",
    "labels = ['Class 0 (small numbers)', 'Class 1 (big numbers)']\n",
    "for class_label in [0, 1]:\n",
    "    mask = (y == class_label)\n",
    "    plt.scatter(X[mask], y[mask], c=colors[class_label], s=150, \n",
    "               label=labels[class_label], edgecolor='black', linewidth=2)\n",
    "\n",
    "plt.xlabel('Input Number (X)', fontsize=12)\n",
    "plt.ylabel('Prediction', fontsize=12)\n",
    "plt.title('🎯 Our Perfect Separator Line!', fontsize=14)\n",
    "plt.legend(fontsize=11)\n",
    "plt.grid(True, alpha=0.3)\n",
    "plt.show()\n",
    "\n",
    "# Test our predictions\n",
    "print(\"\\n🧪 Testing our perfect slope:\")\n",
    "print(\"Input | Real | Prediction | Correct?\")\n",
    "print(\"------|------|------------|----------\")\n",
    "for i in range(len(X)):\n",
    "    pred = simple_prediction(X[i], best_slope)\n",
    "    pred_class = 1 if pred > 0.5 else 0\n",
    "    correct = \"✅ YES\" if pred_class == y[i] else \"❌ NO\"\n",
    "    print(f\"{X[i]:5d} |{y[i]:4d}  |   {pred:.3f}    | {correct}\")\n",
    "\n",
    "# Calculate accuracy\n",
    "correct_predictions = sum(1 for i in range(len(X)) \n",
    "                         if (simple_prediction(X[i], best_slope) > 0.5) == y[i])\n",
    "accuracy = correct_predictions / len(X) * 100\n",
    "print(f\"\\n🏆 Accuracy: {accuracy:.1f}% ({correct_predictions}/{len(X)} correct)\")"
   ]
  },
  {
   "cell_type": "markdown",
   "id": "4d037e1a",
   "metadata": {},
   "source": [
    "## 🎉 What We Just Did!\n",
    "\n",
    "### The Magic Explained:\n",
    "1. **Had Data**: Numbers with labels (0 or 1)\n",
    "2. **Made Predictions**: Used a curve to guess labels\n",
    "3. **Measured Errors**: Checked how wrong we were\n",
    "4. **Used Bisection**: Cut search space in half repeatedly\n",
    "5. **Found Perfect Slope**: The best line to separate our data!\n",
    "\n",
    "### Why Bisection is Cool:\n",
    "- ✅ **Always Works**: Guaranteed to find the answer\n",
    "- ✅ **Simple**: Just keep cutting in half\n",
    "- ✅ **No Math Wizardry**: Anyone can understand it\n",
    "- ✅ **Step by Step**: You can see exactly what's happening\n",
    "\n",
    "### In Real Life:\n",
    "- 📧 **Email Spam Detection**: Is this email spam or not?\n",
    "- 🏥 **Medical Diagnosis**: Does the patient have the disease?\n",
    "- 💰 **Loan Approval**: Should we approve this loan?\n",
    "- 🎬 **Movie Recommendations**: Will you like this movie?\n",
    "\n",
    "**Congratulations! You just used bisection method to solve a machine learning problem! 🚀**"
   ]
  }
 ],
 "metadata": {
  "language_info": {
   "name": "python"
  }
 },
 "nbformat": 4,
 "nbformat_minor": 5
}
