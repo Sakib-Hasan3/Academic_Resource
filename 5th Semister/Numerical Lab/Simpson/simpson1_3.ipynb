{
 "cells": [
  {
   "cell_type": "markdown",
   "id": "4aad7594-9c9c-4770-a08d-f9d0ae5b7a94",
   "metadata": {},
   "source": [
    "$$\n",
    "\\int_a^b f(x)\\,dx \\;\\approx\\; \\frac{h}{3} \\Big[ f(x_0) + 4f(x_1) + 2f(x_2) + 4f(x_3) + \\cdots + 4f(x_{n-1}) + f(x_n) \\Big]\n",
    "$$\n"
   ]
  },
  {
   "cell_type": "code",
   "execution_count": 1,
   "id": "64202233-8276-42b4-bf26-1ead022ec94e",
   "metadata": {},
   "outputs": [
    {
     "name": "stdout",
     "output_type": "stream",
     "text": [
      "The approximate integral of x^2 from 0 to 1 is: 0.3333333333333334\n"
     ]
    }
   ],
   "source": [
    "def simpsons_rule(func, a, b, n):\n",
    "    if n % 2 != 0:\n",
    "        raise ValueError(\"The number of subintervals 'n' must be an even integer.\")\n",
    "\n",
    "    h = (b - a) / n\n",
    "    integral = func(a) + func(b)\n",
    "\n",
    "    for i in range(1, n):\n",
    "        x = a + i * h\n",
    "        if i % 2 == 1:\n",
    "            integral += 4 * func(x)\n",
    "        else:\n",
    "            integral += 2 * func(x)\n",
    "    \n",
    "    integral = integral * (h / 3)\n",
    "    return integral\n",
    "\n",
    "# integrate the function f(x) = x^2 from 0 to 1\n",
    "def f(x):\n",
    "    return x**2\n",
    "\n",
    "a = 0\n",
    "b = 1\n",
    "n = 100  # Must be an even number\n",
    "\n",
    "approx_integral = simpsons_rule(f, a, b, n)\n",
    "print(f\"The approximate integral of x^2 from {a} to {b} is: {approx_integral}\")"
   ]
  }
 ],
 "metadata": {
  "kernelspec": {
   "display_name": "Python 3 (ipykernel)",
   "language": "python",
   "name": "python3"
  },
  "language_info": {
   "codemirror_mode": {
    "name": "ipython",
    "version": 3
   },
   "file_extension": ".py",
   "mimetype": "text/x-python",
   "name": "python",
   "nbconvert_exporter": "python",
   "pygments_lexer": "ipython3",
   "version": "3.12.7"
  },
  "widgets": {
   "application/vnd.jupyter.widget-state+json": {
    "state": {},
    "version_major": 2,
    "version_minor": 0
   }
  }
 },
 "nbformat": 4,
 "nbformat_minor": 5
}
