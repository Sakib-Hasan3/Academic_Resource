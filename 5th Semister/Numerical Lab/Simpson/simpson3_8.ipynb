
{
 "cells": [
  {
   "cell_type": "markdown",
   "id": "16789711-298d-490b-abb2-e39aa578d3c3",
   "metadata": {},
   "source": [
    "$$\n",
    "\\int_a^b f(x)\\,dx \\;\\approx\\; \\frac{3h}{8} \\Big[ f(x_0) + 3f(x_1) + 3f(x_2) + 2f(x_3) + 3f(x_4) + 3f(x_5) + \\cdots + 3f(x_{n-1}) + f(x_n) \\Big]\n",
    "$$\n"
   ]
  },
  {
   "cell_type": "code",
   "execution_count": 1,
   "id": "b99f2b99-a478-43dc-8e52-d3857909adc7",
   "metadata": {},
   "outputs": [
    {
     "name": "stdout",
     "output_type": "stream",
     "text": [
      "The approximate integral of x^3 from 0 to 1 is: 0.24999999999999994\n"
     ]
    }
   ],
   "source": [
    "def simpsons_3_8_rule(func, a, b, n):\n",
    "\n",
    "    # Check if the number of subintervals is a multiple of 3\n",
    "    if n % 3 != 0:\n",
    "        raise ValueError(\"The number of subintervals 'n' must be a multiple of 3 for Simpson's 3/8 rule.\")\n",
    "\n",
    "    h = (b - a) / n\n",
    "    integral = func(a) + func(b)\n",
    "\n",
    "    for i in range(1, n):\n",
    "        x = a + i * h\n",
    "        if i % 3 == 0:\n",
    "            integral += 2 * func(x)\n",
    "        else:\n",
    "            integral += 3 * func(x)\n",
    "\n",
    "    integral = integral * (3 * h / 8)\n",
    "    return integral\n",
    "\n",
    "# integrate f(x) = x^3 from 0 to 1\n",
    "def f(x):\n",
    "    return x**3\n",
    "\n",
    "a = 0\n",
    "b = 1\n",
    "n = 6  # Must be a multiple of 3\n",
    "\n",
    "approx_integral = simpsons_3_8_rule(f, a, b, n)\n",
    "print(f\"The approximate integral of x^3 from {a} to {b} is: {approx_integral}\")"
   ]
  }
 ],
 "metadata": {
  "kernelspec": {
   "display_name": "Python 3 (ipykernel)",
   "language": "python",
   "name": "python3"
  },
  "language_info": {
   "codemirror_mode": {
    "name": "ipython",
    "version": 3
   },
   "file_extension": ".py",
   "mimetype": "text/x-python",
   "name": "python",
   "nbconvert_exporter": "python",
   "pygments_lexer": "ipython3",
   "version": "3.12.7"
  },
  "widgets": {
   "application/vnd.jupyter.widget-state+json": {
    "state": {},
    "version_major": 2,
    "version_minor": 0
   }
  }
 },
 "nbformat": 4,
 "nbformat_minor": 5
}
