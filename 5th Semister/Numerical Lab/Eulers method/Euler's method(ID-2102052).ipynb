{
 "cells": [
  {
   "cell_type": "code",
   "execution_count": 2,
   "id": "c24193c5",
   "metadata": {},
   "outputs": [
    {
     "ename": "ModuleNotFoundError",
     "evalue": "No module named 'matplotlib'",
     "output_type": "error",
     "traceback": [
      "\u001b[31m---------------------------------------------------------------------------\u001b[39m",
      "\u001b[31mModuleNotFoundError\u001b[39m                       Traceback (most recent call last)",
      "\u001b[36mCell\u001b[39m\u001b[36m \u001b[39m\u001b[32mIn[2]\u001b[39m\u001b[32m, line 2\u001b[39m\n\u001b[32m      1\u001b[39m \u001b[38;5;28;01mimport\u001b[39;00m\u001b[38;5;250m \u001b[39m\u001b[34;01mnumpy\u001b[39;00m\u001b[38;5;250m \u001b[39m\u001b[38;5;28;01mas\u001b[39;00m\u001b[38;5;250m \u001b[39m\u001b[34;01mnp\u001b[39;00m\n\u001b[32m----> \u001b[39m\u001b[32m2\u001b[39m \u001b[38;5;28;01mimport\u001b[39;00m\u001b[38;5;250m \u001b[39m\u001b[34;01mmatplotlib\u001b[39;00m\u001b[34;01m.\u001b[39;00m\u001b[34;01mpyplot\u001b[39;00m\u001b[38;5;250m \u001b[39m\u001b[38;5;28;01mas\u001b[39;00m\u001b[38;5;250m \u001b[39m\u001b[34;01mplt\u001b[39;00m\n\u001b[32m      4\u001b[39m \u001b[38;5;28;01mdef\u001b[39;00m\u001b[38;5;250m \u001b[39m\u001b[34mf\u001b[39m(x, y):\n\u001b[32m      5\u001b[39m     \u001b[38;5;28;01mreturn\u001b[39;00m x + y\n",
      "\u001b[31mModuleNotFoundError\u001b[39m: No module named 'matplotlib'"
     ]
    }
   ],
   "source": [
    "import numpy as np\n",
    "import matplotlib.pyplot as plt\n",
    "\n",
    "def f(x, y):\n",
    "    return x + y\n",
    "\n",
    "def euler_method(f, x0, y0, h=0.1, n=100):\n",
    "    x_values = [x0]\n",
    "    y_values = [y0]\n",
    "\n",
    "    for i in range(n):\n",
    "        y0 = y0 + h * f(x0, y0)\n",
    "        x0 = x0 + h\n",
    "        x_values.append(x0)\n",
    "        y_values.append(y0)\n",
    "\n",
    "    return np.array(x_values), np.array(y_values)\n",
    "\n",
    "# Initial conditions and parameters\n",
    "x0 = 0\n",
    "y0 = 1\n",
    "h = 0.1  # Step size\n",
    "n = 100  # Number of steps\n",
    "x_values, y_values = euler_method(f, x0, y0, h, n)\n",
    "\n",
    "# Plotting the results\n",
    "plt.plot(x_values, y_values, label=\"Euler's Method\", color='blue')\n",
    "plt.title(\"Euler's Method for Solving ODE\")\n",
    "plt.xlabel('x')\n",
    "plt.ylabel('y')\n",
    "plt.legend()\n",
    "plt.grid()\n",
    "\n",
    "plt.show()\n"
   ]
  }
 ],
 "metadata": {
  "kernelspec": {
   "display_name": "base",
   "language": "python",
   "name": "python3"
  },
  "language_info": {
   "codemirror_mode": {
    "name": "ipython",
    "version": 3
   },
   "file_extension": ".py",
   "mimetype": "text/x-python",
   "name": "python",
   "nbconvert_exporter": "python",
   "pygments_lexer": "ipython3",
   "version": "3.13.5"
  }
 },
 "nbformat": 4,
 "nbformat_minor": 5
}
