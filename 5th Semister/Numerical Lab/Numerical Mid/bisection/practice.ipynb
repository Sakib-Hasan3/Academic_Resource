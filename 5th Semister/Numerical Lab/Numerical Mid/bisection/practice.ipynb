{
 "cells": [
  {
   "cell_type": "code",
   "execution_count": 2,
   "id": "cccf0d77",
   "metadata": {},
   "outputs": [],
   "source": [
    "def bisection(f,a,b,tol=1e-6):\n",
    "    if f(a)*f(b)>=0:\n",
    "        print(\"The bisection method is not applicable.\")\n",
    "        return None"
   ]
  },
  {
   "cell_type": "code",
   "execution_count": 6,
   "id": "7dddbee6",
   "metadata": {},
   "outputs": [],
   "source": [
    "def bisection(f, a, b, tol=1e-6):\n",
    "    if f(a) * f(b) >= 0:\n",
    "        print(\"The bisection method is not applicable.\")\n",
    "        return None\n",
    "    while (b - a) / 2.0 > tol:\n",
    "        m = (a + b) / 2.0\n",
    "        if f(m) == 0:\n",
    "            return m\n",
    "        elif f(a) * f(m) < 0:\n",
    "            b = m\n",
    "        else:\n",
    "            a = m\n",
    "    return (a + b) / 2.0"
   ]
  },
  {
   "cell_type": "code",
   "execution_count": 7,
   "id": "68f5ecaf",
   "metadata": {},
   "outputs": [],
   "source": [
    "def f(x):\n",
    "    return x**2 - 3"
   ]
  },
  {
   "cell_type": "code",
   "execution_count": 8,
   "id": "bbb752e6",
   "metadata": {},
   "outputs": [
    {
     "name": "stdout",
     "output_type": "stream",
     "text": [
      "The root is approximately: 1.732050895690918\n"
     ]
    }
   ],
   "source": [
    "root=bisection(f, 1, 2)\n",
    "print(\"The root is approximately:\", root)"
   ]
  },
  {
   "cell_type": "code",
   "execution_count": null,
   "id": "6617f16f",
   "metadata": {},
   "outputs": [],
   "source": []
  }
 ],
 "metadata": {
  "kernelspec": {
   "display_name": "base",
   "language": "python",
   "name": "python3"
  },
  "language_info": {
   "codemirror_mode": {
    "name": "ipython",
    "version": 3
   },
   "file_extension": ".py",
   "mimetype": "text/x-python",
   "name": "python",
   "nbconvert_exporter": "python",
   "pygments_lexer": "ipython3",
   "version": "3.12.7"
  }
 },
 "nbformat": 4,
 "nbformat_minor": 5
}
